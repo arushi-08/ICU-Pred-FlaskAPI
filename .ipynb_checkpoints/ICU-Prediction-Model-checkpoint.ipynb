{
 "cells": [
  {
   "cell_type": "code",
   "execution_count": 5,
   "metadata": {},
   "outputs": [],
   "source": [
    "import pandas as pd\n",
    "import numpy as np\n",
    "import matplotlib.pyplot as plt\n",
    "import seaborn as sns\n",
    "from sklearn.model_selection import train_test_split\n",
    "from sklearn.feature_selection import SelectKBest\n",
    "from sklearn.feature_selection import mutual_info_classif\n",
    "from sklearn.utils.testing import ignore_warnings\n",
    "from sklearn.exceptions import ConvergenceWarning\n",
    "from sklearn.metrics import accuracy_score\n",
    "from sklearn.linear_model import LogisticRegression\n",
    "from sklearn.compose import ColumnTransformer\n",
    "from sklearn.preprocessing import MinMaxScaler\n",
    "from sklearn.impute import SimpleImputer, KNNImputer\n",
    "from scipy import stats\n",
    "from sklearn.neural_network import MLPClassifier\n",
    "from sklearn.ensemble import AdaBoostClassifier\n",
    "from sklearn.model_selection import cross_val_score, cross_validate\n",
    "from sklearn.metrics import confusion_matrix, make_scorer\n",
    "pd.set_option('mode.chained_assignment', None)\n",
    "from joblib import dump"
   ]
  },
  {
   "cell_type": "code",
   "execution_count": 6,
   "metadata": {},
   "outputs": [],
   "source": [
    "import imblearn\n",
    "from imblearn.over_sampling import RandomOverSampler\n",
    "from imblearn.under_sampling import RandomUnderSampler"
   ]
  },
  {
   "cell_type": "code",
   "execution_count": 52,
   "metadata": {},
   "outputs": [],
   "source": [
    "def load_data(filename):\n",
    "    data = pd.read_csv(filename)\n",
    "    print(\"Loaded Patients' Dataset. Size of data: %d\" % (len(data)))\n",
    "    covid_data = data[data.covid_res!=3]\n",
    "    print(\"Size of data after removing rows with awaiting covid results: %d\" %(len(covid_data)))\n",
    "    return covid_data\n",
    "    \n",
    "def preprocessing(covid_data):\n",
    "    covid_data.is_copy = None\n",
    "    covid_data[\"intubed\"].replace({97: np.nan, 98: np.nan, 99:np.nan}, inplace=True)\n",
    "    covid_data[\"pneumonia\"].replace({97: np.nan, 98: np.nan, 99:np.nan}, inplace=True)\n",
    "    covid_data[\"pregnancy\"].replace({97: np.nan, 98: np.nan, 99:np.nan}, inplace=True)\n",
    "    covid_data[\"diabetes\"].replace({97: np.nan, 98: np.nan, 99:np.nan}, inplace=True)\n",
    "    covid_data[\"copd\"].replace({97: np.nan, 98: np.nan, 99:np.nan}, inplace=True)\n",
    "    covid_data[\"asthma\"].replace({97: np.nan, 98: np.nan, 99:np.nan}, inplace=True)\n",
    "    covid_data[\"inmsupr\"].replace({97: np.nan, 98: np.nan, 99:np.nan}, inplace=True)\n",
    "    covid_data[\"hypertension\"].replace({97: np.nan, 98: np.nan, 99:np.nan}, inplace=True)\n",
    "    covid_data[\"other_disease\"].replace({97: np.nan, 98: np.nan, 99:np.nan}, inplace=True)\n",
    "    covid_data[\"cardiovascular\"].replace({97: np.nan, 98: np.nan, 99:np.nan}, inplace=True)\n",
    "    covid_data[\"obesity\"].replace({97: np.nan, 98: np.nan, 99:np.nan}, inplace=True)\n",
    "    covid_data[\"renal_chronic\"].replace({97: np.nan, 98: np.nan, 99:np.nan}, inplace=True)\n",
    "    covid_data[\"tobacco\"].replace({97: np.nan, 98: np.nan, 99:np.nan}, inplace=True)\n",
    "    covid_data[\"contact_other_covid\"].replace({97: np.nan, 98: np.nan, 99:np.nan}, inplace=True)\n",
    "    covid_data[\"icu\"].replace({97: np.nan, 98: np.nan, 99:np.nan}, inplace=True)\n",
    "    covid_data[\"date_died\"].replace({\"9999-99-99\": np.nan}, inplace=True)\n",
    "    covid_data = covid_data.drop(['id'],axis=1)\n",
    "    covid_data = covid_data[covid_data.icu!=np.nan]\n",
    "    covid_data[\"entry_date\"] = pd.to_datetime(covid_data[\"entry_date\"],dayfirst=True)\n",
    "    covid_data[\"date_symptoms\"] = pd.to_datetime(covid_data[\"date_symptoms\"],dayfirst=True)\n",
    "    covid_data[\"date_died\"] = pd.to_datetime(covid_data[\"date_died\"],dayfirst=True)\n",
    "    covid_data['symptom_to_death'] = covid_data.date_died - covid_data.date_symptoms\n",
    "    covid_data['symptom_to_death'] = covid_data['symptom_to_death'].astype('timedelta64[D]')\n",
    "    covid_data.iloc[127706].symptom_to_death = pd.NaT\n",
    "    covid_data.iloc[259415].symptom_to_death = pd.NaT\n",
    "    covid_data.iloc[404958].symptom_to_death = pd.NaT\n",
    "    covid_data = covid_data.drop(['entry_date', 'date_symptoms', 'date_died'],axis=1)\n",
    "    covid_data[covid_data.sex==2.0].pregnancy = 2.0\n",
    "    covid_data[covid_data.sex==2.0] = covid_data[covid_data.sex==2.0].fillna(value={'pregnancy':2.0})\n",
    "    covid_data = covid_data.reindex(columns= ['sex','patient_type','intubed','pneumonia','pregnancy','diabetes', 'copd',\n",
    "                                            'asthma','inmsupr','hypertension','other_disease', 'cardiovascular','obesity',\n",
    "                                            'renal_chronic','tobacco','contact_other_covid', 'covid_res', 'age', \n",
    "                                            'symptom_to_death', 'icu'])\n",
    "    covid_data = covid_data.dropna(how='any',axis=0)\n",
    "    return covid_data\n",
    "\n",
    "# def imputing_columns(icu_data):\n",
    "#     transformer = ColumnTransformer(transformers=[('cat', SimpleImputer(missing_values=np.nan,strategy='most_frequent'), \n",
    "#                                                ['sex','patient_type','intubed','pneumonia','pregnancy','diabetes',\n",
    "#                                                 'copd','asthma', 'inmsupr','hypertension','other_disease', 'cardiovascular',\n",
    "#                                                 'obesity','renal_chronic','tobacco','contact_other_covid','icu']), \n",
    "#                                               ('num', SimpleImputer(missing_values=np.nan, strategy=\"mean\"), \n",
    "#                                                ['age','symptom_to_death'])],remainder='passthrough')\n",
    "#     transformed_df = transformer.fit_transform(icu_data)\n",
    "#     icu_data = pd.DataFrame(data=transformed_df,columns=['sex','patient_type','intubed','pneumonia','pregnancy','diabetes',\n",
    "#                                                   'copd','asthma','inmsupr','hypertension','other_disease', 'cardiovascular',\n",
    "#                                                   'obesity','renal_chronic','tobacco','contact_other_covid', 'covid_res',\n",
    "#                                                   'age', 'symptom_to_death','icu'])\n",
    "#     scaler = ColumnTransformer(transformers=[('scal', MinMaxScaler(),['sex','patient_type','pneumonia','pregnancy',\n",
    "#                                                                       'diabetes', 'copd','asthma','inmsupr','hypertension',\n",
    "#                                                                       'other_disease', 'cardiovascular','obesity',\n",
    "#                                                                       'renal_chronic','tobacco','contact_other_covid', \n",
    "#                                                                       'covid_res', 'age','symptom_to_death', 'icu'])])\n",
    "#     icu_data = scaler.fit_transform(icu_data)\n",
    "#     icu_data = pd.DataFrame(data=icu_data, columns=['sex','patient_type','intubed','pneumonia','pregnancy','diabetes',\n",
    "#                                                   'copd','asthma','inmsupr','hypertension','other_disease', 'cardiovascular',\n",
    "#                                                   'obesity','renal_chronic','tobacco','contact_other_covid', 'covid_res',\n",
    "#                                                   'age', 'symptom_to_death','icu'])\n",
    "#     z = np.abs(stats.zscore(icu_data))\n",
    "#     icu = icu_data[(z < 2).all(axis=1)]\n",
    "#     return icu_data\n",
    "\n",
    "def select_features(icu_data):\n",
    "    dataset = icu_data.values\n",
    "    print(icu_data.columns)\n",
    "    X = dataset[:,:-1]\n",
    "    y = dataset[:,-1]\n",
    "    fs = SelectKBest(score_func=mutual_info_classif, k=10)\n",
    "    X = fs.fit_transform(X, y)\n",
    "#     X_train_fs = fs.transform(X_train)\n",
    "#     X_test_fs = fs.transform(X_test)\n",
    "    return icu_data, X, y, fs\n",
    "\n",
    "\n",
    "\n",
    "@ignore_warnings(category=ConvergenceWarning)\n",
    "def modelrun(icu_data, X, y):\n",
    "    dataset = icu_data.values\n",
    "    # split into train and test sets\n",
    "    X_train, X_test, y_train, y_test = train_test_split(X, y, test_size=0.20, random_state=1)    \n",
    "    print(\"Step 4: Resampling Data due to Imbalanced target classes: %d, %d\" %(len(icu_data[icu_data.icu==1.0]), len(icu_data[icu_data.icu==0.0])))\n",
    "    # define oversampling strategy\n",
    "    oversample = RandomOverSampler(sampling_strategy=0.9)\n",
    "    X, y = oversample.fit_resample(X, y)\n",
    "    # define oversampling strategy\n",
    "    undersample = RandomUnderSampler(sampling_strategy=0.9)\n",
    "    X, y = undersample.fit_resample(X, y)\n",
    "    model = LogisticRegression()\n",
    "    print(\"Step 5: Running Logistic Regression Model\")\n",
    "#     model = MLPClassifier(random_state=1, max_iter=300)\n",
    "    accuracy = cross_val_score(model, X, y, cv=5)\n",
    "    precision = cross_val_score(model, X, y, cv=5, scoring='precision_micro')\n",
    "    recall = cross_val_score(model, X, y, cv=5, scoring='recall_micro')\n",
    "    f1 = cross_val_score(model, X, y, cv=5, scoring='f1_micro')\n",
    "    print(\"Model Scores: %0.2f Accuracy | %0.2f Precision | %0.2f Recall | %0.2f F1\" %(accuracy.mean(), precision.mean(), recall.mean(), f1.mean()))\n",
    "    print('Confusion matrix:')\n",
    "    def tn(y_true, y_pred): return confusion_matrix(y_true, y_pred)[0, 0]\n",
    "    def fp(y_true, y_pred): return confusion_matrix(y_true, y_pred)[0, 1]\n",
    "    def fn(y_true, y_pred): return confusion_matrix(y_true, y_pred)[1, 0]\n",
    "    def tp(y_true, y_pred): return confusion_matrix(y_true, y_pred)[1, 1]\n",
    "    scoring = {'tp': make_scorer(tp), 'tn': make_scorer(tn),'fp': make_scorer(fp), 'fn': make_scorer(fn)}\n",
    "    cv_results = cross_validate(model.fit(X, y), X, y, cv=5, scoring=scoring)\n",
    "    model.fit(X_train,y_train)\n",
    "    dump(model, filename=\"./log_reg_icu_pred.joblib\")\n",
    "    print(cv_results)\n",
    "    return"
   ]
  },
  {
   "cell_type": "code",
   "execution_count": 53,
   "metadata": {},
   "outputs": [
    {
     "name": "stdout",
     "output_type": "stream",
     "text": [
      "Goal: ICU Requirement Prediction\n"
     ]
    },
    {
     "name": "stdin",
     "output_type": "stream",
     "text": [
      "Enter filename:  785492_1361825_bundle_archive/covid.csv\n"
     ]
    },
    {
     "name": "stdout",
     "output_type": "stream",
     "text": [
      "Step 1: Loading Data\n",
      "Loaded Patients' Dataset. Size of data: 566602\n",
      "Size of data after removing rows with awaiting covid results: 499692\n",
      "Step 2: Cleaning Data\n",
      "Step 3: Selecting top features\n",
      "Index(['sex', 'patient_type', 'intubed', 'pneumonia', 'pregnancy', 'diabetes',\n",
      "       'copd', 'asthma', 'inmsupr', 'hypertension', 'other_disease',\n",
      "       'cardiovascular', 'obesity', 'renal_chronic', 'tobacco',\n",
      "       'contact_other_covid', 'covid_res', 'age', 'symptom_to_death', 'icu'],\n",
      "      dtype='object')\n",
      "Feature 0: 0.001132 sex\n",
      "Feature 1: 0.003792 patient_type\n",
      "Feature 2: 0.110188 intubed\n",
      "Feature 3: 0.004422 pneumonia\n",
      "Feature 4: 0.002038 pregnancy\n",
      "Feature 5: 0.000000 diabetes\n",
      "Feature 6: 0.003192 copd\n",
      "Feature 7: 0.000000 asthma\n",
      "Feature 8: 0.005565 inmsupr\n",
      "Feature 9: 0.002889 hypertension\n",
      "Feature 10: 0.000000 other_disease\n",
      "Feature 11: 0.008145 cardiovascular\n",
      "Feature 12: 0.000002 obesity\n",
      "Feature 13: 0.004479 renal_chronic\n",
      "Feature 14: 0.000000 tobacco\n",
      "Feature 15: 0.000000 contact_other_covid\n",
      "Feature 16: 0.001609 covid_res\n",
      "Feature 17: 0.000000 age\n",
      "Feature 18: 0.013051 symptom_to_death\n"
     ]
    },
    {
     "data": {
      "image/png": "[encoded data removed]",
      "text/plain": [
       "<Figure size 432x288 with 1 Axes>"
      ]
     },
     "metadata": {
      "needs_background": "light"
     },
     "output_type": "display_data"
    },
    {
     "name": "stdout",
     "output_type": "stream",
     "text": [
      "Step 4: Resampling Data due to Imbalanced target classes: 2715, 0\n",
      "Step 5: Running Logistic Regression Model\n",
      "Model Scores: 0.77 Accuracy | 0.77 Precision | 0.77 Recall | 0.77 F1\n",
      "Confusion matrix:\n",
      "{'fit_time': array([0.12099791, 0.12196064, 0.13298392, 0.11414981, 0.12500072]), 'score_time': array([0.01003671, 0.01201773, 0.01004171, 0.01099801, 0.0100522 ]), 'test_tp': array([1388, 1339, 1361, 1310, 1324]), 'test_tn': array([1245, 1213, 1219, 1209, 1220]), 'test_fp': array([343, 375, 368, 378, 367]), 'test_fn': array([375, 424, 403, 454, 440])}\n",
      "----x----x----x----x-----\n"
     ]
    }
   ],
   "source": [
    "def main():\n",
    "    print(\"Goal: ICU Requirement Prediction\")\n",
    "    data = input('Enter filename: ')\n",
    "    print(\"Step 1: Loading Data\")\n",
    "    covid_data = load_data(data)\n",
    "    print(\"Step 2: Cleaning Data\")\n",
    "    icu_data = preprocessing(covid_data)\n",
    "#     icu_data = imputing_columns(icu_data)\n",
    "    print(\"Step 3: Selecting top features\")\n",
    "    icu_data, X, y, fs = select_features(icu_data)\n",
    "    for i in range(len(fs.scores_)):\n",
    "        print('Feature %d: %f' % (i, fs.scores_[i]), icu_data.columns[i])\n",
    "    # plot the scores\n",
    "    plt.bar([i for i in range(len(fs.scores_))], fs.scores_)\n",
    "    plt.show()\n",
    "    modelrun(icu_data, X, y)\n",
    "    print(\"----x----x----x----x-----\")\n",
    "\n",
    "if __name__ == \"__main__\": \n",
    "    main() "
   ]
  },
  {
   "cell_type": "code",
   "execution_count": null,
   "metadata": {},
   "outputs": [],
   "source": [
    "# 785492_1361825_bundle_archive/covid.csv"
   ]
  }
 ],
 "metadata": {
  "kernelspec": {
   "display_name": "Python 3",
   "language": "python",
   "name": "python3"
  },
  "language_info": {
   "codemirror_mode": {
    "name": "ipython",
    "version": 3
   },
   "file_extension": ".py",
   "mimetype": "text/x-python",
   "name": "python",
   "nbconvert_exporter": "python",
   "pygments_lexer": "ipython3",
   "version": "3.8.5"
  }
 },
 "nbformat": 4,
 "nbformat_minor": 4
}
